{
  "nbformat": 4,
  "nbformat_minor": 0,
  "metadata": {
    "colab": {
      "provenance": [],
      "authorship_tag": "ABX9TyORgFMJurRdlnbT4pyFMUP7",
      "include_colab_link": true
    },
    "kernelspec": {
      "name": "python3",
      "display_name": "Python 3"
    },
    "language_info": {
      "name": "python"
    }
  },
  "cells": [
    {
      "cell_type": "markdown",
      "metadata": {
        "id": "view-in-github",
        "colab_type": "text"
      },
      "source": [
        "<a href=\"https://colab.research.google.com/github/siparatu4-ops/KKASmt1-ratuasyf-X7/blob/main/1_fungsi_print_ratuasyf_kelas_X7.ipynb\" target=\"_parent\"><img src=\"https://colab.research.google.com/assets/colab-badge.svg\" alt=\"Open In Colab\"/></a>"
      ]
    },
    {
      "cell_type": "markdown",
      "source": [
        "Menampilkan teks bebas dengan tanda kutip"
      ],
      "metadata": {
        "id": "2ER1d6WFyQB4"
      }
    },
    {
      "cell_type": "code",
      "source": [
        "print(\"hello world \")"
      ],
      "metadata": {
        "colab": {
          "base_uri": "https://localhost:8080/"
        },
        "id": "MXKzcmV8yJ0v",
        "outputId": "6f13d785-7b21-4f43-ea7a-f69361eee359"
      },
      "execution_count": null,
      "outputs": [
        {
          "output_type": "stream",
          "name": "stdout",
          "text": [
            "hello world \n"
          ]
        }
      ]
    },
    {
      "cell_type": "code",
      "source": [
        "print(\"ratu assyfa\")"
      ],
      "metadata": {
        "colab": {
          "base_uri": "https://localhost:8080/"
        },
        "id": "6XD9G5rnyG9A",
        "outputId": "91353baf-4ad2-4b76-9d90-79e40454c052"
      },
      "execution_count": null,
      "outputs": [
        {
          "output_type": "stream",
          "name": "stdout",
          "text": [
            "ratu assyfa\n"
          ]
        }
      ]
    },
    {
      "cell_type": "markdown",
      "source": [
        "Menampilkan variabel integer"
      ],
      "metadata": {
        "id": "ehPzV7Bpya2Q"
      }
    },
    {
      "cell_type": "code",
      "source": [
        "usia =15\n",
        "print (usia)"
      ],
      "metadata": {
        "colab": {
          "base_uri": "https://localhost:8080/"
        },
        "id": "z9NmOq87yZl3",
        "outputId": "680e9e84-ff6e-413e-ceb7-3b58d06481f4"
      },
      "execution_count": null,
      "outputs": [
        {
          "output_type": "stream",
          "name": "stdout",
          "text": [
            "15\n"
          ]
        }
      ]
    },
    {
      "cell_type": "code",
      "source": [
        "beratbadan =49\n",
        "print(beratbadan)"
      ],
      "metadata": {
        "colab": {
          "base_uri": "https://localhost:8080/"
        },
        "id": "lAnikmZWyqUY",
        "outputId": "704e27a8-cb6a-4ea9-c849-2377b7b8a4d7"
      },
      "execution_count": null,
      "outputs": [
        {
          "output_type": "stream",
          "name": "stdout",
          "text": [
            "49\n"
          ]
        }
      ]
    },
    {
      "cell_type": "code",
      "source": [
        "tinggibadan =160\n",
        "print(tinggibadan)"
      ],
      "metadata": {
        "colab": {
          "base_uri": "https://localhost:8080/"
        },
        "id": "O6LPik3Ayztw",
        "outputId": "f25c3e57-54ca-4e9e-d0e0-d4ebfa0eeaee"
      },
      "execution_count": null,
      "outputs": [
        {
          "output_type": "stream",
          "name": "stdout",
          "text": [
            "160\n"
          ]
        }
      ]
    },
    {
      "cell_type": "markdown",
      "source": [
        "Menampilkan teks bebas dan nilai variabel"
      ],
      "metadata": {
        "id": "CNulVf58zDbG"
      }
    },
    {
      "cell_type": "code",
      "source": [
        "print (\"tinggi badan: \", tinggibadan)"
      ],
      "metadata": {
        "colab": {
          "base_uri": "https://localhost:8080/"
        },
        "id": "Di-1uhUSzJKx",
        "outputId": "7ef740ee-0272-4051-eedc-0c9cf4eef644"
      },
      "execution_count": null,
      "outputs": [
        {
          "output_type": "stream",
          "name": "stdout",
          "text": [
            "tinggi badan:  160\n"
          ]
        }
      ]
    },
    {
      "cell_type": "code",
      "source": [
        "print (\"usia\" +str (usia))"
      ],
      "metadata": {
        "colab": {
          "base_uri": "https://localhost:8080/"
        },
        "id": "lrxCCftGzbTH",
        "outputId": "98066357-2f8d-43dc-e026-b29206e99e03"
      },
      "execution_count": null,
      "outputs": [
        {
          "output_type": "stream",
          "name": "stdout",
          "text": [
            "usia15\n"
          ]
        }
      ]
    },
    {
      "cell_type": "code",
      "source": [
        "Luasman = 1.1\n",
        "print (\"luas man adalah\" + str(Luasman) + \"per kilometer \")"
      ],
      "metadata": {
        "colab": {
          "base_uri": "https://localhost:8080/"
        },
        "id": "qGmAVlpozjmz",
        "outputId": "9c7ed08c-64b3-487d-9083-98b7f7bc7011"
      },
      "execution_count": null,
      "outputs": [
        {
          "output_type": "stream",
          "name": "stdout",
          "text": [
            "luas man adalah1.1per kilometer \n"
          ]
        }
      ]
    },
    {
      "cell_type": "code",
      "source": [
        "print (f\"luas man adalah {Luasman} kilometer persegi \")"
      ],
      "metadata": {
        "colab": {
          "base_uri": "https://localhost:8080/"
        },
        "id": "c6LaeAr2xRFq",
        "outputId": "df89e33f-5440-44df-c074-db6b77b31032"
      },
      "execution_count": null,
      "outputs": [
        {
          "output_type": "stream",
          "name": "stdout",
          "text": [
            "luas man adalah 1.1 kilometer persegi \n"
          ]
        }
      ]
    },
    {
      "cell_type": "code",
      "execution_count": null,
      "metadata": {
        "colab": {
          "base_uri": "https://localhost:8080/"
        },
        "id": "s3hwYfazMp-k",
        "outputId": "6e8d5fd0-eb23-44e8-e8b0-a3e91b7cd47f"
      },
      "outputs": [
        {
          "output_type": "stream",
          "name": "stdout",
          "text": [
            "harga telur adalah  26000 per kilogram\n",
            "nama pembeli telur adalah assyfa\n"
          ]
        }
      ],
      "source": [
        "harga_telur = 26000\n",
        "nama_pembeli = \"assyfa\"\n",
        "\n",
        "print(\"harga telur adalah \" ,harga_telur ,\"per kilogram\")\n",
        "print(\"nama pembeli telur adalah\", nama_pembeli)"
      ]
    },
    {
      "cell_type": "code",
      "source": [
        "print(\"harga telur adalah \" ,harga_telur ,\"per kilogram\")\n",
        "print(\"nama pembeli telur adalah\", nama_pembeli)"
      ],
      "metadata": {
        "colab": {
          "base_uri": "https://localhost:8080/"
        },
        "id": "mYipBTkLR_R2",
        "outputId": "ca8e2a90-2b6d-42b1-d7e7-d6919248cadc"
      },
      "execution_count": null,
      "outputs": [
        {
          "output_type": "stream",
          "name": "stdout",
          "text": [
            "harga telur adalah  26000 per kilogram\n",
            "nama pembeli telur adalah assyfa\n"
          ]
        }
      ]
    },
    {
      "cell_type": "code",
      "source": [
        "print(\"harga telur adalah \" + str(harga_telur) +\" Per kilogram \")\n",
        "print(\"nama pembeli telur adalah\", nama_pembeli)"
      ],
      "metadata": {
        "colab": {
          "base_uri": "https://localhost:8080/"
        },
        "id": "gt-SpbKASk8T",
        "outputId": "b61f35bb-ea1e-4a5a-c590-c75990e34cd4"
      },
      "execution_count": null,
      "outputs": [
        {
          "output_type": "stream",
          "name": "stdout",
          "text": [
            "harga telur adalah 26000 Per kilogram \n",
            "nama pembeli telur adalah assyfa\n"
          ]
        }
      ]
    },
    {
      "cell_type": "markdown",
      "source": [
        "Escape character"
      ],
      "metadata": {
        "id": "JUB3jFu5VVi1"
      }
    },
    {
      "cell_type": "code",
      "source": [
        "print(\"Nama: Ratu Assyfa\")\n",
        "print(\"Kelas: X.7\")\n",
        "print(\"Nomor Absen: 32\")"
      ],
      "metadata": {
        "colab": {
          "base_uri": "https://localhost:8080/"
        },
        "id": "0jAgD-a5Vsaj",
        "outputId": "a4daabcb-4af8-4cf4-9310-fa9507c241c0"
      },
      "execution_count": null,
      "outputs": [
        {
          "output_type": "stream",
          "name": "stdout",
          "text": [
            "Nama: Ratu Assyfa\n",
            "Kelas: X.7\n",
            "Nomor Absen: 32\n"
          ]
        }
      ]
    },
    {
      "cell_type": "code",
      "source": [
        "print(\"Nama\\t\\t: Ratu Assyfa\\nKelas\\t\\t: X.7\\nomor absen\\t:32\")"
      ],
      "metadata": {
        "colab": {
          "base_uri": "https://localhost:8080/"
        },
        "id": "lR5MgEp2WQNz",
        "outputId": "5d2c21d4-c7be-4878-9649-799b8abd1866"
      },
      "execution_count": null,
      "outputs": [
        {
          "output_type": "stream",
          "name": "stdout",
          "text": [
            "Nama\t\t: Ratu Assyfa\n",
            "Kelas\t\t: X.7\n",
            "omor absen\t:32\n"
          ]
        }
      ]
    },
    {
      "cell_type": "code",
      "source": [
        "print(\"\"\"Nama: Ratu Assyfa\n",
        "Kelas:X.7\n",
        "Nomor absen: 32\"\"\")"
      ],
      "metadata": {
        "colab": {
          "base_uri": "https://localhost:8080/"
        },
        "id": "2ZtNb3ZhW8Hi",
        "outputId": "f04feabd-1f42-4d5d-ae38-2a51567d390a"
      },
      "execution_count": null,
      "outputs": [
        {
          "output_type": "stream",
          "name": "stdout",
          "text": [
            "Nama: Ratu Assyfa \n",
            "Kelas:X.7\n",
            "Nomor absen: 32\n"
          ]
        }
      ]
    },
    {
      "cell_type": "code",
      "source": [
        "print(\"Nama: Habib Jafar\")"
      ],
      "metadata": {
        "colab": {
          "base_uri": "https://localhost:8080/"
        },
        "id": "KozE6-vdREY8",
        "outputId": "ca80d8b7-c328-4dcb-9e95-1e3447057852"
      },
      "execution_count": null,
      "outputs": [
        {
          "output_type": "stream",
          "name": "stdout",
          "text": [
            "Nama: Habib Jafar\n"
          ]
        }
      ]
    },
    {
      "cell_type": "code",
      "source": [
        "print('Nama: Habib Jafar')"
      ],
      "metadata": {
        "colab": {
          "base_uri": "https://localhost:8080/"
        },
        "id": "cOg4PiUMSFgb",
        "outputId": "74a8a0c6-4ebb-48fc-b2c0-ddff627bce85"
      },
      "execution_count": null,
      "outputs": [
        {
          "output_type": "stream",
          "name": "stdout",
          "text": [
            "Nama: Habib Jafar\n"
          ]
        }
      ]
    },
    {
      "cell_type": "code",
      "source": [
        "print(\"Nama: Habib ja\\\"far\")"
      ],
      "metadata": {
        "colab": {
          "base_uri": "https://localhost:8080/"
        },
        "id": "roQ7syQcSZEl",
        "outputId": "0dd38fdf-def0-4778-b834-9e3dd4ca3c29"
      },
      "execution_count": null,
      "outputs": [
        {
          "output_type": "stream",
          "name": "stdout",
          "text": [
            "Nama: Habib ja\"far\n"
          ]
        }
      ]
    },
    {
      "cell_type": "code",
      "source": [
        "print(\"Nama:Habib Ja'far\")"
      ],
      "metadata": {
        "colab": {
          "base_uri": "https://localhost:8080/"
        },
        "id": "MpsCzAs8Smi4",
        "outputId": "e80e10fb-3214-4bf9-b88a-de100f05c765"
      },
      "execution_count": null,
      "outputs": [
        {
          "output_type": "stream",
          "name": "stdout",
          "text": [
            "Nama:Habib Ja'far\n"
          ]
        }
      ]
    },
    {
      "cell_type": "code",
      "source": [
        "print(\"Bu shinta berkata,\\\"Tenang fokus sejenak!\\\",\")"
      ],
      "metadata": {
        "colab": {
          "base_uri": "https://localhost:8080/"
        },
        "id": "rT1QVkl1SvIh",
        "outputId": "58ca883b-2fa5-49a4-93d9-6907db6b4906"
      },
      "execution_count": null,
      "outputs": [
        {
          "output_type": "stream",
          "name": "stdout",
          "text": [
            "Bu shinta berkata,\"Tenang fokus sejenak!\",\n"
          ]
        }
      ]
    },
    {
      "cell_type": "code",
      "source": [
        "print('Bu shinta berkata, \"Tenang fokus sejenak!, ')"
      ],
      "metadata": {
        "colab": {
          "base_uri": "https://localhost:8080/"
        },
        "id": "RthhkeanTqC7",
        "outputId": "4fda3fd8-bc8f-49d1-b973-e135febd53b4"
      },
      "execution_count": null,
      "outputs": [
        {
          "output_type": "stream",
          "name": "stdout",
          "text": [
            "Bu shinta berkata, \"Tenang fokus sejenak!, \n"
          ]
        }
      ]
    },
    {
      "cell_type": "code",
      "source": [
        "print(\"Lokasi penyimpanan tugas KKA ada di local disk D:\\\\KKA\\\\Tugas\")"
      ],
      "metadata": {
        "colab": {
          "base_uri": "https://localhost:8080/"
        },
        "id": "Pd24Q98CT3Y2",
        "outputId": "3782817c-37cc-4f6c-8b04-7cd8e5ce2b3d"
      },
      "execution_count": null,
      "outputs": [
        {
          "output_type": "stream",
          "name": "stdout",
          "text": [
            "Lokasi penyimpanan tugas KKA ada di local disk D:\\KKA\\Tugas\n"
          ]
        }
      ]
    },
    {
      "cell_type": "markdown",
      "source": [
        "Parameter fungsi print"
      ],
      "metadata": {
        "id": "PRa1zsmiUe9W"
      }
    },
    {
      "cell_type": "code",
      "source": [
        "Tanggal =10\n",
        "Bulan = \"Mei\"\n",
        "Tahun = 2010\n",
        "\n",
        "#10-mei-2010\n",
        "print(Tanggal)\n",
        "print(Bulan)\n",
        "print(Tahun)"
      ],
      "metadata": {
        "colab": {
          "base_uri": "https://localhost:8080/"
        },
        "id": "lRVumwQfV9rn",
        "outputId": "d0256252-6f40-45bd-b223-dccb325f83ec"
      },
      "execution_count": null,
      "outputs": [
        {
          "output_type": "stream",
          "name": "stdout",
          "text": [
            "10\n",
            "Mei\n",
            "2010\n"
          ]
        }
      ]
    },
    {
      "cell_type": "code",
      "source": [
        "#10-mei-2010\n",
        "print(Tanggal, Bulan, Tahun, sep=\"-\")"
      ],
      "metadata": {
        "colab": {
          "base_uri": "https://localhost:8080/"
        },
        "id": "v7qJNWuAWt2g",
        "outputId": "b5ed3ada-10ab-4d0f-aaf5-6c7a020df91c"
      },
      "execution_count": null,
      "outputs": [
        {
          "output_type": "stream",
          "name": "stdout",
          "text": [
            "10-Mei-2010\n"
          ]
        }
      ]
    },
    {
      "cell_type": "code",
      "source": [
        "#10-mei-2010\n",
        "print(Tanggal,end=\"-\")\n",
        "print(Bulan, end=\"-\")\n",
        "print(Tahun)"
      ],
      "metadata": {
        "colab": {
          "base_uri": "https://localhost:8080/"
        },
        "id": "HCtlhOQEXC2b",
        "outputId": "983c9cfd-78f0-48bb-c321-77edf5588758"
      },
      "execution_count": null,
      "outputs": [
        {
          "output_type": "stream",
          "name": "stdout",
          "text": [
            "10-Mei-2010\n"
          ]
        }
      ]
    }
  ]
}